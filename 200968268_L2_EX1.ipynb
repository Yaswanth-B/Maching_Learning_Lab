{
 "cells": [
  {
   "cell_type": "raw",
   "id": "dfeb85e5",
   "metadata": {},
   "source": [
    "% 1. Title: Pima Indians Diabetes Database\n",
    "% \n",
    "% 2. Sources:\n",
    "%    (a) Original owners: National Institute of Diabetes and Digestive and\n",
    "%                         Kidney Diseases\n",
    "%    (b) Donor of database: Vincent Sigillito (vgs@aplcen.apl.jhu.edu)\n",
    "%                           Research Center, RMI Group Leader\n",
    "%                           Applied Physics Laboratory\n",
    "%                           The Johns Hopkins University\n",
    "%                           Johns Hopkins Road\n",
    "%                           Laurel, MD 20707\n",
    "%                           (301) 953-6231\n",
    "%    (c) Date received: 9 May 1990\n",
    "% \n",
    "% 3. Past Usage:\n",
    "%     1. Smith,~J.~W., Everhart,~J.~E., Dickson,~W.~C., Knowler,~W.~C., \\&\n",
    "%        Johannes,~R.~S. (1988). Using the ADAP learning algorithm to forecast\n",
    "%        the onset of diabetes mellitus.  In {\\it Proceedings of the Symposium\n",
    "%        on Computer Applications and Medical Care} (pp. 261--265).  IEEE\n",
    "%        Computer Society Press.\n",
    "% \n",
    "%        The diagnostic, binary-valued variable investigated is whether the\n",
    "%        patient shows signs of diabetes according to World Health Organization\n",
    "%        criteria (i.e., if the 2 hour post-load plasma glucose was at least \n",
    "%        200 mg/dl at any survey  examination or if found during routine medical\n",
    "%        care).   The population lives near Phoenix, Arizona, USA.\n",
    "% \n",
    "%        Results: Their ADAP algorithm makes a real-valued prediction between\n",
    "%        0 and 1.  This was transformed into a binary decision using a cutoff of \n",
    "%        0.448.  Using 576 training instances, the sensitivity and specificity\n",
    "%        of their algorithm was 76% on the remaining 192 instances.\n",
    "% \n",
    "% 4. Relevant Information:\n",
    "%       Several constraints were placed on the selection of these instances from\n",
    "%       a larger database.  In particular, all patients here are females at\n",
    "%       least 21 years old of Pima Indian heritage.  ADAP is an adaptive learning\n",
    "%       routine that generates and executes digital analogs of perceptron-like\n",
    "%       devices.  It is a unique algorithm; see the paper for details.\n",
    "% \n",
    "% 5. Number of Instances: 768\n",
    "% \n",
    "% 6. Number of Attributes: 8 plus class \n",
    "% \n",
    "% 7. For Each Attribute: (all numeric-valued)\n",
    "%    1. Number of times pregnant\n",
    "%    2. Plasma glucose concentration a 2 hours in an oral glucose tolerance test\n",
    "%    3. Diastolic blood pressure (mm Hg)\n",
    "%    4. Triceps skin fold thickness (mm)\n",
    "%    5. 2-Hour serum insulin (mu U/ml)\n",
    "%    6. Body mass index (weight in kg/(height in m)^2)\n",
    "%    7. Diabetes pedigree function\n",
    "%    8. Age (years)\n",
    "%    9. Class variable (0 or 1)\n",
    "% \n",
    "% 8. Missing Attribute Values: None\n",
    "% \n",
    "% 9. Class Distribution: (class value 1 is interpreted as \"tested positive for\n",
    "%    diabetes\")\n",
    "% \n",
    "%    Class Value  Number of instances\n",
    "%    0            500\n",
    "%    1            268\n",
    "% \n",
    "% 10. Brief statistical analysis:\n",
    "% \n",
    "%     Attribute number:    Mean:   Standard Deviation:\n",
    "%     1.                     3.8     3.4\n",
    "%     2.                   120.9    32.0\n",
    "%     3.                    69.1    19.4\n",
    "%     4.                    20.5    16.0\n",
    "%     5.                    79.8   115.2\n",
    "%     6.                    32.0     7.9\n",
    "%     7.                     0.5     0.3\n",
    "%     8.                    33.2    11.8\n",
    "% \n",
    "% \n",
    "%\n",
    "%\n",
    "%\n",
    "%\n",
    "% Relabeled values in attribute 'class'\n",
    "%    From: 0                       To: tested_negative     \n",
    "%    From: 1                       To: tested_positive     \n"
   ]
  },
  {
   "cell_type": "code",
   "execution_count": 32,
   "id": "f2947249",
   "metadata": {},
   "outputs": [],
   "source": [
    "import pandas as pd # importing libraries\n",
    "import matplotlib.pyplot as plt\n",
    "import seaborn as sns\n",
    "import numpy as np\n",
    "import random\n",
    "from matplotlib import pyplot as plt\n",
    "%matplotlib inline"
   ]
  },
  {
   "cell_type": "code",
   "execution_count": 33,
   "id": "568e017a",
   "metadata": {},
   "outputs": [
    {
     "data": {
      "text/html": [
       "<div>\n",
       "<style scoped>\n",
       "    .dataframe tbody tr th:only-of-type {\n",
       "        vertical-align: middle;\n",
       "    }\n",
       "\n",
       "    .dataframe tbody tr th {\n",
       "        vertical-align: top;\n",
       "    }\n",
       "\n",
       "    .dataframe thead th {\n",
       "        text-align: right;\n",
       "    }\n",
       "</style>\n",
       "<table border=\"1\" class=\"dataframe\">\n",
       "  <thead>\n",
       "    <tr style=\"text-align: right;\">\n",
       "      <th></th>\n",
       "      <th>preg</th>\n",
       "      <th>plas</th>\n",
       "      <th>pres</th>\n",
       "      <th>skin</th>\n",
       "      <th>insu</th>\n",
       "      <th>mass</th>\n",
       "      <th>pedi</th>\n",
       "      <th>age</th>\n",
       "      <th>class</th>\n",
       "    </tr>\n",
       "  </thead>\n",
       "  <tbody>\n",
       "    <tr>\n",
       "      <th>0</th>\n",
       "      <td>6</td>\n",
       "      <td>148</td>\n",
       "      <td>72</td>\n",
       "      <td>35</td>\n",
       "      <td>0</td>\n",
       "      <td>33.6</td>\n",
       "      <td>0.627</td>\n",
       "      <td>50</td>\n",
       "      <td>tested_positive</td>\n",
       "    </tr>\n",
       "    <tr>\n",
       "      <th>1</th>\n",
       "      <td>1</td>\n",
       "      <td>85</td>\n",
       "      <td>66</td>\n",
       "      <td>29</td>\n",
       "      <td>0</td>\n",
       "      <td>26.6</td>\n",
       "      <td>0.351</td>\n",
       "      <td>31</td>\n",
       "      <td>tested_negative</td>\n",
       "    </tr>\n",
       "    <tr>\n",
       "      <th>2</th>\n",
       "      <td>8</td>\n",
       "      <td>183</td>\n",
       "      <td>64</td>\n",
       "      <td>0</td>\n",
       "      <td>0</td>\n",
       "      <td>23.3</td>\n",
       "      <td>0.672</td>\n",
       "      <td>32</td>\n",
       "      <td>tested_positive</td>\n",
       "    </tr>\n",
       "    <tr>\n",
       "      <th>3</th>\n",
       "      <td>1</td>\n",
       "      <td>89</td>\n",
       "      <td>66</td>\n",
       "      <td>23</td>\n",
       "      <td>94</td>\n",
       "      <td>28.1</td>\n",
       "      <td>0.167</td>\n",
       "      <td>21</td>\n",
       "      <td>tested_negative</td>\n",
       "    </tr>\n",
       "    <tr>\n",
       "      <th>4</th>\n",
       "      <td>0</td>\n",
       "      <td>137</td>\n",
       "      <td>40</td>\n",
       "      <td>35</td>\n",
       "      <td>168</td>\n",
       "      <td>43.1</td>\n",
       "      <td>2.288</td>\n",
       "      <td>33</td>\n",
       "      <td>tested_positive</td>\n",
       "    </tr>\n",
       "  </tbody>\n",
       "</table>\n",
       "</div>"
      ],
      "text/plain": [
       "   preg  plas  pres  skin  insu  mass   pedi  age            class\n",
       "0     6   148    72    35     0  33.6  0.627   50  tested_positive\n",
       "1     1    85    66    29     0  26.6  0.351   31  tested_negative\n",
       "2     8   183    64     0     0  23.3  0.672   32  tested_positive\n",
       "3     1    89    66    23    94  28.1  0.167   21  tested_negative\n",
       "4     0   137    40    35   168  43.1  2.288   33  tested_positive"
      ]
     },
     "execution_count": 33,
     "metadata": {},
     "output_type": "execute_result"
    }
   ],
   "source": [
    "diab=pd.read_csv(\"D:\\\\Sem 4\\\\ML\\\\week2\\\\diabetes.csv\")\n",
    "diab.head()"
   ]
  },
  {
   "cell_type": "code",
   "execution_count": 34,
   "id": "e514f320",
   "metadata": {},
   "outputs": [
    {
     "data": {
      "text/plain": [
       "0      1\n",
       "1      0\n",
       "2      1\n",
       "3      0\n",
       "4      1\n",
       "      ..\n",
       "763    0\n",
       "764    0\n",
       "765    0\n",
       "766    1\n",
       "767    0\n",
       "Name: class, Length: 768, dtype: int64"
      ]
     },
     "execution_count": 34,
     "metadata": {},
     "output_type": "execute_result"
    }
   ],
   "source": [
    "diab[\"class\"] = diab[\"class\"].map({\"tested_positive\": 1, \"tested_negative\": 0})\n",
    "diab[\"class\"]"
   ]
  },
  {
   "cell_type": "code",
   "execution_count": 35,
   "id": "69bf6210",
   "metadata": {},
   "outputs": [
    {
     "data": {
      "text/plain": [
       "preg     2.771620\n",
       "plas    25.181793\n",
       "pres    12.639425\n",
       "skin    13.659627\n",
       "insu    84.505079\n",
       "mass     5.842270\n",
       "pedi     0.247309\n",
       "age      9.586405\n",
       "dtype: float64"
      ]
     },
     "execution_count": 35,
     "metadata": {},
     "output_type": "execute_result"
    }
   ],
   "source": [
    "mean_dev = np.mean(abs(diab.loc[:, diab.columns != 'class'] - np.mean(diab.loc[:, diab.columns != 'class'])))\n",
    "mean_dev"
   ]
  },
  {
   "cell_type": "code",
   "execution_count": 36,
   "id": "8b699f87",
   "metadata": {},
   "outputs": [
    {
     "data": {
      "text/plain": [
       "preg      3.367384\n",
       "plas     31.951796\n",
       "pres     19.343202\n",
       "skin     15.941829\n",
       "insu    115.168949\n",
       "mass      7.879026\n",
       "pedi      0.331113\n",
       "age      11.752573\n",
       "dtype: float64"
      ]
     },
     "execution_count": 36,
     "metadata": {},
     "output_type": "execute_result"
    }
   ],
   "source": [
    "std_dev = np.std(diab.loc[:, diab.columns != 'class'])\n",
    "std_dev"
   ]
  },
  {
   "cell_type": "code",
   "execution_count": 37,
   "id": "c2b7aeec",
   "metadata": {},
   "outputs": [
    {
     "data": {
      "text/plain": [
       "<AxesSubplot:>"
      ]
     },
     "execution_count": 37,
     "metadata": {},
     "output_type": "execute_result"
    },
    {
     "data": {
      "image/png": "[encoded data removed]",
      "text/plain": [
       "<Figure size 432x288 with 1 Axes>"
      ]
     },
     "metadata": {
      "needs_background": "light"
     },
     "output_type": "display_data"
    }
   ],
   "source": [
    "diab[\"age\"].hist()"
   ]
  },
  {
   "cell_type": "code",
   "execution_count": 38,
   "id": "7d5962f0",
   "metadata": {},
   "outputs": [
    {
     "data": {
      "text/html": [
       "<div>\n",
       "<style scoped>\n",
       "    .dataframe tbody tr th:only-of-type {\n",
       "        vertical-align: middle;\n",
       "    }\n",
       "\n",
       "    .dataframe tbody tr th {\n",
       "        vertical-align: top;\n",
       "    }\n",
       "\n",
       "    .dataframe thead th {\n",
       "        text-align: right;\n",
       "    }\n",
       "</style>\n",
       "<table border=\"1\" class=\"dataframe\">\n",
       "  <thead>\n",
       "    <tr style=\"text-align: right;\">\n",
       "      <th></th>\n",
       "      <th>age</th>\n",
       "      <th>class</th>\n",
       "      <th>mass</th>\n",
       "    </tr>\n",
       "  </thead>\n",
       "  <tbody>\n",
       "    <tr>\n",
       "      <th>age</th>\n",
       "      <td>1.000000</td>\n",
       "      <td>0.238356</td>\n",
       "      <td>0.036242</td>\n",
       "    </tr>\n",
       "    <tr>\n",
       "      <th>class</th>\n",
       "      <td>0.238356</td>\n",
       "      <td>1.000000</td>\n",
       "      <td>0.292695</td>\n",
       "    </tr>\n",
       "    <tr>\n",
       "      <th>mass</th>\n",
       "      <td>0.036242</td>\n",
       "      <td>0.292695</td>\n",
       "      <td>1.000000</td>\n",
       "    </tr>\n",
       "  </tbody>\n",
       "</table>\n",
       "</div>"
      ],
      "text/plain": [
       "            age     class      mass\n",
       "age    1.000000  0.238356  0.036242\n",
       "class  0.238356  1.000000  0.292695\n",
       "mass   0.036242  0.292695  1.000000"
      ]
     },
     "execution_count": 38,
     "metadata": {},
     "output_type": "execute_result"
    }
   ],
   "source": [
    "corr=diab[[\"age\", \"class\", \"mass\"]].corr() \n",
    "corr\n"
   ]
  },
  {
   "cell_type": "code",
   "execution_count": 39,
   "id": "73faafce",
   "metadata": {},
   "outputs": [
    {
     "data": {
      "text/plain": [
       "([<matplotlib.axis.XTick at 0x187e7beb790>,\n",
       "  <matplotlib.axis.XTick at 0x187e7beb760>],\n",
       " [Text(0, 0, ''), Text(0, 0, '')])"
      ]
     },
     "execution_count": 39,
     "metadata": {},
     "output_type": "execute_result"
    },
    {
     "data": {
      "image/png": "[encoded data removed]",
      "text/plain": [
       "<Figure size 432x288 with 1 Axes>"
      ]
     },
     "metadata": {
      "needs_background": "light"
     },
     "output_type": "display_data"
    }
   ],
   "source": [
    "base = diab.groupby(\"class\", as_index = False).count()\n",
    "x = base[\"class\"]\n",
    "y = base[\"age\"]\n",
    "plt.bar(x,y)\n",
    "plt.xticks([0,1])"
   ]
  },
  {
   "cell_type": "code",
   "execution_count": 40,
   "id": "c3e713a5",
   "metadata": {},
   "outputs": [],
   "source": [
    "#the classes are not balanced, the 1(aka 'tested_positive') class is almost half of the 'tested_negative' class"
   ]
  },
  {
   "cell_type": "code",
   "execution_count": 57,
   "id": "930656f1",
   "metadata": {},
   "outputs": [
    {
     "name": "stderr",
     "output_type": "stream",
     "text": [
      "c:\\users\\yaswa\\appdata\\local\\programs\\python\\python38\\lib\\site-packages\\sklearn\\linear_model\\_logistic.py:814: ConvergenceWarning: lbfgs failed to converge (status=1):\n",
      "STOP: TOTAL NO. of ITERATIONS REACHED LIMIT.\n",
      "\n",
      "Increase the number of iterations (max_iter) or scale the data as shown in:\n",
      "    https://scikit-learn.org/stable/modules/preprocessing.html\n",
      "Please also refer to the documentation for alternative solver options:\n",
      "    https://scikit-learn.org/stable/modules/linear_model.html#logistic-regression\n",
      "  n_iter_i = _check_optimize_result(\n"
     ]
    },
    {
     "data": {
      "text/plain": [
       "LogisticRegression()"
      ]
     },
     "execution_count": 57,
     "metadata": {},
     "output_type": "execute_result"
    }
   ],
   "source": [
    "x1 = diab.loc[:, diab.columns != 'class']\n",
    "y1 = diab[\"class\"]\n",
    "from sklearn.model_selection import train_test_split\n",
    "x_train,x_test,y_train,y_test=train_test_split(x1,y1,test_size=0.3) \n",
    "\n",
    "from sklearn.linear_model import LogisticRegression\n",
    "model = LogisticRegression() \n",
    "model.fit(x_train,y_train)# fitting data points to model"
   ]
  },
  {
   "cell_type": "code",
   "execution_count": 58,
   "id": "27fdb26b",
   "metadata": {},
   "outputs": [],
   "source": [
    "y_pred = model.predict(x_test)"
   ]
  },
  {
   "cell_type": "code",
   "execution_count": 59,
   "id": "85cb418e",
   "metadata": {},
   "outputs": [
    {
     "data": {
      "text/plain": [
       "array([[136,  17],\n",
       "       [ 33,  45]], dtype=int64)"
      ]
     },
     "execution_count": 59,
     "metadata": {},
     "output_type": "execute_result"
    }
   ],
   "source": [
    "from sklearn.metrics import confusion_matrix\n",
    "cm = confusion_matrix(y_test, y_pred)\n",
    "cm"
   ]
  },
  {
   "cell_type": "code",
   "execution_count": 60,
   "id": "98205a41",
   "metadata": {},
   "outputs": [
    {
     "data": {
      "text/plain": [
       "<AxesSubplot:>"
      ]
     },
     "execution_count": 60,
     "metadata": {},
     "output_type": "execute_result"
    },
    {
     "data": {
      "image/png": "[encoded data removed]",
      "text/plain": [
       "<Figure size 432x288 with 2 Axes>"
      ]
     },
     "metadata": {
      "needs_background": "light"
     },
     "output_type": "display_data"
    }
   ],
   "source": [
    "sns.heatmap(cm)"
   ]
  },
  {
   "cell_type": "code",
   "execution_count": 61,
   "id": "4fd6173b",
   "metadata": {},
   "outputs": [
    {
     "name": "stdout",
     "output_type": "stream",
     "text": [
      "accuracy =  0.7835497835497836\n",
      "TPR =  0.5769230769230769\n",
      "TNR =  0.8888888888888888\n"
     ]
    }
   ],
   "source": [
    "tn = cm[0,0]\n",
    "fp = cm[0,1]\n",
    "fn = cm[1,0]\n",
    "tp = cm[1,1]\n",
    "acc = (tp+tn)/(tp+tn+fp+fn)\n",
    "tpr = tp/(fn+tp)\n",
    "tnr = tn/(tn+fp)\n",
    "\n",
    "print(\"accuracy = \", acc)\n",
    "print(\"TPR = \", tpr)\n",
    "print(\"TNR = \", tnr)"
   ]
  },
  {
   "cell_type": "code",
   "execution_count": 62,
   "id": "690dec9b",
   "metadata": {},
   "outputs": [
    {
     "data": {
      "image/png": "[encoded data removed]",
      "text/plain": [
       "<Figure size 432x288 with 1 Axes>"
      ]
     },
     "metadata": {
      "needs_background": "light"
     },
     "output_type": "display_data"
    }
   ],
   "source": [
    "from sklearn.metrics import roc_curve, roc_auc_score\n",
    "falsepr, truepr, _ = roc_curve(y_test, y_pred)\n",
    "plt.plot(falsepr,truepr)\n",
    "plt.xlabel(\"FPR\")\n",
    "plt.ylabel(\"TPR\")\n",
    "plt.show()"
   ]
  },
  {
   "cell_type": "code",
   "execution_count": 63,
   "id": "3efd583b",
   "metadata": {},
   "outputs": [
    {
     "data": {
      "text/plain": [
       "0.7329059829059829"
      ]
     },
     "execution_count": 63,
     "metadata": {},
     "output_type": "execute_result"
    }
   ],
   "source": [
    "r =  roc_auc_score(y_test,y_pred)\n",
    "r"
   ]
  },
  {
   "cell_type": "code",
   "execution_count": 64,
   "id": "b95b482e",
   "metadata": {},
   "outputs": [],
   "source": [
    "#in general, a curve moving towards the top and left of and roc curve means the classifier is better\n",
    "#a 45 degree line corresponds to random predictions\n",
    "#The area under the curve is 0.73, indicating it is a decent model\n",
    "#The accuracy could be improved by scaling the input values"
   ]
  },
  {
   "cell_type": "code",
   "execution_count": null,
   "id": "49323f39",
   "metadata": {},
   "outputs": [],
   "source": []
  },
  {
   "cell_type": "code",
   "execution_count": null,
   "id": "b844b471",
   "metadata": {},
   "outputs": [],
   "source": []
  }
 ],
 "metadata": {
  "kernelspec": {
   "display_name": "Python 3 (ipykernel)",
   "language": "python",
   "name": "python3"
  },
  "language_info": {
   "codemirror_mode": {
    "name": "ipython",
    "version": 3
   },
   "file_extension": ".py",
   "mimetype": "text/x-python",
   "name": "python",
   "nbconvert_exporter": "python",
   "pygments_lexer": "ipython3",
   "version": "3.8.6"
  }
 },
 "nbformat": 4,
 "nbformat_minor": 5
}
